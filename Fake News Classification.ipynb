{
 "cells": [
  {
   "cell_type": "code",
   "execution_count": null,
   "metadata": {
    "_cell_guid": "b1076dfc-b9ad-4769-8c92-a6c4dae69d19",
    "_uuid": "8f2839f25d086af736a60e9eeb907d3b93b6e0e5",
    "execution": {
     "iopub.execute_input": "2021-03-08T07:03:59.393245Z",
     "iopub.status.busy": "2021-03-08T07:03:59.392430Z",
     "iopub.status.idle": "2021-03-08T07:04:06.295224Z",
     "shell.execute_reply": "2021-03-08T07:04:06.294364Z"
    },
    "papermill": {
     "duration": 6.920351,
     "end_time": "2021-03-08T07:04:06.295510",
     "exception": false,
     "start_time": "2021-03-08T07:03:59.375159",
     "status": "completed"
    },
    "tags": []
   },
   "outputs": [],
   "source": [
    "import numpy as np\n",
    "import pandas as pd\n",
    "import matplotlib.pyplot as plt\n",
    "from tensorflow.keras.layers import Embedding,LSTM,Dense,Dropout\n",
    "from tensorflow.keras.preprocessing.sequence import pad_sequences\n",
    "from tensorflow.keras.models import Sequential\n",
    "from tensorflow.keras.preprocessing.text import one_hot"
   ]
  },
  {
   "cell_type": "code",
   "execution_count": null,
   "metadata": {},
   "outputs": [],
   "source": [
    "try:\n",
    "    from tensorflow.keras.preprocessing.text import Tokenizer, one_hot\n",
    "    print(\"Imports successful!\")\n",
    "except ImportError as e:\n",
    "    print(\"Import error:\", e)\n"
   ]
  },
  {
   "cell_type": "markdown",
   "metadata": {
    "papermill": {
     "duration": 0.011429,
     "end_time": "2021-03-08T07:04:06.319130",
     "exception": false,
     "start_time": "2021-03-08T07:04:06.307701",
     "status": "completed"
    },
    "tags": []
   },
   "source": [
    "### Importing dataset"
   ]
  },
  {
   "cell_type": "code",
   "execution_count": null,
   "metadata": {
    "execution": {
     "iopub.execute_input": "2021-03-08T07:04:06.348232Z",
     "iopub.status.busy": "2021-03-08T07:04:06.347580Z",
     "iopub.status.idle": "2021-03-08T07:04:09.749862Z",
     "shell.execute_reply": "2021-03-08T07:04:09.749361Z"
    },
    "papermill": {
     "duration": 3.419163,
     "end_time": "2021-03-08T07:04:09.750022",
     "exception": false,
     "start_time": "2021-03-08T07:04:06.330859",
     "status": "completed"
    },
    "tags": []
   },
   "outputs": [],
   "source": [
    "df = pd.read_csv(r\"C:\\Users\\aryan\\Desktop\\Projects\\Fake-News-Classification\\train.csv\")\n",
    "test = pd.read_csv(r\"C:\\Users\\aryan\\Desktop\\Projects\\Fake-News-Classification\\test.csv\")"
   ]
  },
  {
   "cell_type": "code",
   "execution_count": null,
   "metadata": {
    "execution": {
     "iopub.execute_input": "2021-03-08T07:04:09.794122Z",
     "iopub.status.busy": "2021-03-08T07:04:09.793428Z",
     "iopub.status.idle": "2021-03-08T07:04:09.816058Z",
     "shell.execute_reply": "2021-03-08T07:04:09.816539Z"
    },
    "papermill": {
     "duration": 0.054707,
     "end_time": "2021-03-08T07:04:09.816708",
     "exception": false,
     "start_time": "2021-03-08T07:04:09.762001",
     "status": "completed"
    },
    "tags": []
   },
   "outputs": [],
   "source": [
    "df.head()"
   ]
  },
  {
   "cell_type": "markdown",
   "metadata": {
    "papermill": {
     "duration": 0.011886,
     "end_time": "2021-03-08T07:04:09.841323",
     "exception": false,
     "start_time": "2021-03-08T07:04:09.829437",
     "status": "completed"
    },
    "tags": []
   },
   "source": [
    "### Data preprocessing and cleaning"
   ]
  },
  {
   "cell_type": "code",
   "execution_count": null,
   "metadata": {
    "execution": {
     "iopub.execute_input": "2021-03-08T07:04:09.876255Z",
     "iopub.status.busy": "2021-03-08T07:04:09.870026Z",
     "iopub.status.idle": "2021-03-08T07:04:09.885374Z",
     "shell.execute_reply": "2021-03-08T07:04:09.884750Z"
    },
    "papermill": {
     "duration": 0.031849,
     "end_time": "2021-03-08T07:04:09.885528",
     "exception": false,
     "start_time": "2021-03-08T07:04:09.853679",
     "status": "completed"
    },
    "tags": []
   },
   "outputs": [],
   "source": [
    "#filling NULL values with empty string\n",
    "df=df.fillna('')\n",
    "test=test.fillna('')"
   ]
  },
  {
   "cell_type": "code",
   "execution_count": null,
   "metadata": {
    "execution": {
     "iopub.execute_input": "2021-03-08T07:04:09.917744Z",
     "iopub.status.busy": "2021-03-08T07:04:09.917099Z",
     "iopub.status.idle": "2021-03-08T07:04:09.953483Z",
     "shell.execute_reply": "2021-03-08T07:04:09.953927Z"
    },
    "papermill": {
     "duration": 0.054736,
     "end_time": "2021-03-08T07:04:09.954104",
     "exception": false,
     "start_time": "2021-03-08T07:04:09.899368",
     "status": "completed"
    },
    "tags": []
   },
   "outputs": [],
   "source": [
    "# We will be only using title and author name for prediction\n",
    "# Creating new coolumn total concatenating title and author\n",
    "df['total'] = df['title']+' '+df['author']\n",
    "test['total']=test['title']+' '+test['author']"
   ]
  },
  {
   "cell_type": "code",
   "execution_count": null,
   "metadata": {
    "execution": {
     "iopub.execute_input": "2021-03-08T07:04:09.985652Z",
     "iopub.status.busy": "2021-03-08T07:04:09.984952Z",
     "iopub.status.idle": "2021-03-08T07:04:09.996277Z",
     "shell.execute_reply": "2021-03-08T07:04:09.996755Z"
    },
    "papermill": {
     "duration": 0.028981,
     "end_time": "2021-03-08T07:04:09.996931",
     "exception": false,
     "start_time": "2021-03-08T07:04:09.967950",
     "status": "completed"
    },
    "tags": []
   },
   "outputs": [],
   "source": [
    "X = df.drop('label',axis=1)\n",
    "y=df['label']\n",
    "\n",
    "assert X.shape[0] == y.shape[0], \"Mismatch in number of rows\"\n",
    "\n",
    "y = df['label'].values  # or y = df['label'].squeeze()\n",
    "\n",
    "print(X.shape)\n",
    "print(y.shape)"
   ]
  },
  {
   "cell_type": "code",
   "execution_count": null,
   "metadata": {
    "execution": {
     "iopub.execute_input": "2021-03-08T07:04:10.030966Z",
     "iopub.status.busy": "2021-03-08T07:04:10.028419Z",
     "iopub.status.idle": "2021-03-08T07:04:10.035918Z",
     "shell.execute_reply": "2021-03-08T07:04:10.035204Z"
    },
    "papermill": {
     "duration": 0.025132,
     "end_time": "2021-03-08T07:04:10.036088",
     "exception": false,
     "start_time": "2021-03-08T07:04:10.010956",
     "status": "completed"
    },
    "tags": []
   },
   "outputs": [],
   "source": [
    "#Choosing vocabulary size to be 5000 and copying data to msg for further cleaning\n",
    "voc_size = 5000\n",
    "embedding_dim = 40\n",
    "lstm_units = 100\n",
    "dense_units = 64\n",
    "msg = X.copy()\n",
    "msg_test = test.copy()"
   ]
  },
  {
   "cell_type": "code",
   "execution_count": null,
   "metadata": {
    "execution": {
     "iopub.execute_input": "2021-03-08T07:04:10.067589Z",
     "iopub.status.busy": "2021-03-08T07:04:10.066924Z",
     "iopub.status.idle": "2021-03-08T07:04:11.755340Z",
     "shell.execute_reply": "2021-03-08T07:04:11.755843Z"
    },
    "papermill": {
     "duration": 1.706664,
     "end_time": "2021-03-08T07:04:11.756032",
     "exception": false,
     "start_time": "2021-03-08T07:04:10.049368",
     "status": "completed"
    },
    "tags": []
   },
   "outputs": [],
   "source": [
    "#Downloading stopwords \n",
    "#Stopwords are the words in any language which does not add much meaning to a sentence.\n",
    "#They can safely be ignored without sacrificing the meaning of the sentence.\n",
    "import nltk\n",
    "import re\n",
    "from nltk.corpus import stopwords\n",
    "nltk.download('stopwords')"
   ]
  },
  {
   "cell_type": "code",
   "execution_count": null,
   "metadata": {
    "execution": {
     "iopub.execute_input": "2021-03-08T07:04:11.788955Z",
     "iopub.status.busy": "2021-03-08T07:04:11.787883Z",
     "iopub.status.idle": "2021-03-08T07:04:11.790892Z",
     "shell.execute_reply": "2021-03-08T07:04:11.790416Z"
    },
    "papermill": {
     "duration": 0.021335,
     "end_time": "2021-03-08T07:04:11.791035",
     "exception": false,
     "start_time": "2021-03-08T07:04:11.769700",
     "status": "completed"
    },
    "tags": []
   },
   "outputs": [],
   "source": [
    "#We will be using Stemming here\n",
    "#Stemming map words to their root forms\n",
    "from nltk.stem.porter import PorterStemmer\n",
    "ps = PorterStemmer()\n",
    "corpus = []\n",
    "corpus_test = []"
   ]
  },
  {
   "cell_type": "code",
   "execution_count": null,
   "metadata": {
    "execution": {
     "iopub.execute_input": "2021-03-08T07:04:11.825191Z",
     "iopub.status.busy": "2021-03-08T07:04:11.824566Z",
     "iopub.status.idle": "2021-03-08T07:04:52.316233Z",
     "shell.execute_reply": "2021-03-08T07:04:52.316769Z"
    },
    "papermill": {
     "duration": 40.512251,
     "end_time": "2021-03-08T07:04:52.316965",
     "exception": false,
     "start_time": "2021-03-08T07:04:11.804714",
     "status": "completed"
    },
    "tags": []
   },
   "outputs": [],
   "source": [
    "# Initialize the stemmer and stopwords\n",
    "stop_words = set(stopwords.words('english'))\n",
    "\n",
    "# Process each review\n",
    "for i in range(len(msg)):\n",
    "    # Text cleaning and preprocessing\n",
    "    review = re.sub('[^a-zA-Z]', ' ', msg['total'][i])\n",
    "    review = review.lower()\n",
    "    review = review.split()\n",
    "    review = [ps.stem(word) for word in review if word not in stop_words]\n",
    "    review = ' '.join(review)\n",
    "    corpus.append(review)\n"
   ]
  },
  {
   "cell_type": "code",
   "execution_count": null,
   "metadata": {
    "execution": {
     "iopub.execute_input": "2021-03-08T07:04:52.353227Z",
     "iopub.status.busy": "2021-03-08T07:04:52.352210Z",
     "iopub.status.idle": "2021-03-08T07:05:02.311218Z",
     "shell.execute_reply": "2021-03-08T07:05:02.310685Z"
    },
    "papermill": {
     "duration": 9.979293,
     "end_time": "2021-03-08T07:05:02.311381",
     "exception": false,
     "start_time": "2021-03-08T07:04:52.332088",
     "status": "completed"
    },
    "tags": []
   },
   "outputs": [],
   "source": [
    "# Process each review in the test data\n",
    "for i in range(len(msg_test)):\n",
    "    # Text cleaning and preprocessing\n",
    "    review = re.sub('[^a-zA-Z]', ' ', msg_test['total'][i])\n",
    "    review = review.lower()\n",
    "    review = review.split()\n",
    "    review = [ps.stem(word) for word in review if word not in stop_words]\n",
    "    review = ' '.join(review)\n",
    "    corpus_test.append(review)\n"
   ]
  },
  {
   "cell_type": "code",
   "execution_count": null,
   "metadata": {
    "execution": {
     "iopub.execute_input": "2021-03-08T07:05:02.353116Z",
     "iopub.status.busy": "2021-03-08T07:05:02.347758Z",
     "iopub.status.idle": "2021-03-08T07:05:02.809775Z",
     "shell.execute_reply": "2021-03-08T07:05:02.809121Z"
    },
    "papermill": {
     "duration": 0.484255,
     "end_time": "2021-03-08T07:05:02.809913",
     "exception": false,
     "start_time": "2021-03-08T07:05:02.325658",
     "status": "completed"
    },
    "tags": []
   },
   "outputs": [],
   "source": [
    "# Converting to one hot representation\n",
    "onehot_rep = [one_hot(words,voc_size)for words in corpus]\n",
    "onehot_rep_test = [one_hot(words,voc_size)for words in corpus_test]"
   ]
  },
  {
   "cell_type": "code",
   "execution_count": null,
   "metadata": {
    "execution": {
     "iopub.execute_input": "2021-03-08T07:05:02.846095Z",
     "iopub.status.busy": "2021-03-08T07:05:02.845384Z",
     "iopub.status.idle": "2021-03-08T07:05:02.960311Z",
     "shell.execute_reply": "2021-03-08T07:05:02.959624Z"
    },
    "papermill": {
     "duration": 0.136234,
     "end_time": "2021-03-08T07:05:02.960458",
     "exception": false,
     "start_time": "2021-03-08T07:05:02.824224",
     "status": "completed"
    },
    "tags": []
   },
   "outputs": [],
   "source": [
    "#Padding Sentences to make them of same size\n",
    "embedded_docs = pad_sequences(onehot_rep,padding='pre',maxlen=50)\n",
    "embedded_docs_test = pad_sequences(onehot_rep_test,padding='pre',maxlen=50)"
   ]
  },
  {
   "cell_type": "markdown",
   "metadata": {
    "papermill": {
     "duration": 0.014064,
     "end_time": "2021-03-08T07:05:02.988693",
     "exception": false,
     "start_time": "2021-03-08T07:05:02.974629",
     "status": "completed"
    },
    "tags": []
   },
   "source": [
    "# Creating and training model"
   ]
  },
  {
   "cell_type": "code",
   "execution_count": null,
   "metadata": {
    "execution": {
     "iopub.execute_input": "2021-03-08T07:05:03.025106Z",
     "iopub.status.busy": "2021-03-08T07:05:03.024440Z",
     "iopub.status.idle": "2021-03-08T07:05:03.461751Z",
     "shell.execute_reply": "2021-03-08T07:05:03.462511Z"
    },
    "papermill": {
     "duration": 0.459675,
     "end_time": "2021-03-08T07:05:03.462798",
     "exception": false,
     "start_time": "2021-03-08T07:05:03.003123",
     "status": "completed"
    },
    "tags": []
   },
   "outputs": [],
   "source": [
    "# Initialize the model\n",
    "model = Sequential()\n",
    "model.add(Embedding(input_dim=voc_size, output_dim=40))  # Embedding layer\n",
    "model.add(Dropout(0.3))                                # Dropout layer\n",
    "model.add(LSTM(100))                                  # LSTM layer\n",
    "model.add(Dropout(0.3))                                # Dropout layer\n",
    "model.add(Dense(64, activation='relu'))                # Dense layer\n",
    "model.add(Dropout(0.3))                                # Dropout layer\n",
    "model.add(Dense(1, activation='sigmoid'))              # Output layer\n",
    "\n",
    "# Compile the model\n",
    "model.compile(loss='binary_crossentropy', optimizer='adam', metrics=['accuracy'])\n",
    "\n",
    "# Print the model summary\n",
    "print(model.summary())"
   ]
  },
  {
   "cell_type": "code",
   "execution_count": null,
   "metadata": {
    "execution": {
     "iopub.execute_input": "2021-03-08T07:05:03.496829Z",
     "iopub.status.busy": "2021-03-08T07:05:03.496160Z",
     "iopub.status.idle": "2021-03-08T07:05:03.503318Z",
     "shell.execute_reply": "2021-03-08T07:05:03.502772Z"
    },
    "papermill": {
     "duration": 0.025993,
     "end_time": "2021-03-08T07:05:03.503472",
     "exception": false,
     "start_time": "2021-03-08T07:05:03.477479",
     "status": "completed"
    },
    "tags": []
   },
   "outputs": [],
   "source": [
    "#Converting into numpy array\n",
    "X_final = np.array(embedded_docs)\n",
    "y_final = np.array(y)\n",
    "test_final = np.array(embedded_docs_test)\n",
    "X_final.shape,y_final.shape,test_final.shape\n",
    "\n",
    "print(X_final.shape)  # Should be (num_samples, max_len)\n",
    "print(y_final.shape)  # Should be (num_samples,)\n",
    "print(test_final.shape)"
   ]
  },
  {
   "cell_type": "code",
   "execution_count": null,
   "metadata": {
    "execution": {
     "iopub.execute_input": "2021-03-08T07:05:03.538061Z",
     "iopub.status.busy": "2021-03-08T07:05:03.537341Z",
     "iopub.status.idle": "2021-03-08T07:08:12.255054Z",
     "shell.execute_reply": "2021-03-08T07:08:12.254391Z"
    },
    "papermill": {
     "duration": 188.736943,
     "end_time": "2021-03-08T07:08:12.255216",
     "exception": false,
     "start_time": "2021-03-08T07:05:03.518273",
     "status": "completed"
    },
    "tags": []
   },
   "outputs": [],
   "source": [
    "#training model\n",
    "model.fit(X_final,y_final,epochs=20,batch_size=64)"
   ]
  },
  {
   "cell_type": "markdown",
   "metadata": {
    "papermill": {
     "duration": 0.832876,
     "end_time": "2021-03-08T07:08:13.867434",
     "exception": false,
     "start_time": "2021-03-08T07:08:13.034558",
     "status": "completed"
    },
    "tags": []
   },
   "source": [
    "## Creating Submission file "
   ]
  },
  {
   "cell_type": "code",
   "execution_count": null,
   "metadata": {
    "execution": {
     "iopub.execute_input": "2021-03-08T07:08:15.401998Z",
     "iopub.status.busy": "2021-03-08T07:08:15.401364Z",
     "iopub.status.idle": "2021-03-08T07:08:17.166224Z",
     "shell.execute_reply": "2021-03-08T07:08:17.165739Z"
    },
    "papermill": {
     "duration": 2.53836,
     "end_time": "2021-03-08T07:08:17.166417",
     "exception": false,
     "start_time": "2021-03-08T07:08:14.628057",
     "status": "completed"
    },
    "tags": []
   },
   "outputs": [],
   "source": [
    "y_pred = model.predict(test_final)\n",
    "\n",
    "y_pred_classes = np.argmax(y_pred, axis=1)\n"
   ]
  },
  {
   "cell_type": "code",
   "execution_count": null,
   "metadata": {
    "execution": {
     "iopub.execute_input": "2021-03-08T07:08:18.702623Z",
     "iopub.status.busy": "2021-03-08T07:08:18.701679Z",
     "iopub.status.idle": "2021-03-08T07:08:18.720711Z",
     "shell.execute_reply": "2021-03-08T07:08:18.720032Z"
    },
    "papermill": {
     "duration": 0.787484,
     "end_time": "2021-03-08T07:08:18.720858",
     "exception": false,
     "start_time": "2021-03-08T07:08:17.933374",
     "status": "completed"
    },
    "tags": []
   },
   "outputs": [],
   "source": [
    "final_sub = pd.DataFrame()\n",
    "final_sub['id']=test['id']\n",
    "final_sub['label'] = y_pred\n",
    "final_sub.to_csv('submit.csv',index=False)"
   ]
  },
  {
   "cell_type": "code",
   "execution_count": null,
   "metadata": {
    "execution": {
     "iopub.execute_input": "2021-03-08T07:08:20.264215Z",
     "iopub.status.busy": "2021-03-08T07:08:20.263232Z",
     "iopub.status.idle": "2021-03-08T07:08:20.266775Z",
     "shell.execute_reply": "2021-03-08T07:08:20.267318Z"
    },
    "papermill": {
     "duration": 0.771936,
     "end_time": "2021-03-08T07:08:20.267485",
     "exception": false,
     "start_time": "2021-03-08T07:08:19.495549",
     "status": "completed"
    },
    "tags": []
   },
   "outputs": [],
   "source": [
    "final_sub.head()"
   ]
  }
 ],
 "metadata": {
  "kernelspec": {
   "display_name": "Python 3",
   "language": "python",
   "name": "python3"
  },
  "language_info": {
   "codemirror_mode": {
    "name": "ipython",
    "version": 3
   },
   "file_extension": ".py",
   "mimetype": "text/x-python",
   "name": "python",
   "nbconvert_exporter": "python",
   "pygments_lexer": "ipython3",
   "version": "3.12.5"
  },
  "papermill": {
   "default_parameters": {},
   "duration": 273.338547,
   "end_time": "2021-03-08T07:08:26.978974",
   "environment_variables": {},
   "exception": null,
   "input_path": "__notebook__.ipynb",
   "output_path": "__notebook__.ipynb",
   "parameters": {},
   "start_time": "2021-03-08T07:03:53.640427",
   "version": "2.2.2"
  }
 },
 "nbformat": 4,
 "nbformat_minor": 4
}
