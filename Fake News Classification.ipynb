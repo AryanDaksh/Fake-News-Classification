{
 "cells": [
  {
   "cell_type": "markdown",
   "metadata": {
    "papermill": {
     "duration": 0.012819,
     "end_time": "2021-03-08T07:03:59.362341",
     "exception": false,
     "start_time": "2021-03-08T07:03:59.349522",
     "status": "completed"
    },
    "tags": []
   },
   "source": [
    "# Introduction\n",
    "* The notebook gives an introduction to NLP.\n",
    "* The notebook also introduce us to some preprocessing techniques required for text data\n",
    "* We will be working on the famous fake news dataset."
   ]
  },
  {
   "cell_type": "code",
   "execution_count": 1,
   "metadata": {
    "_cell_guid": "b1076dfc-b9ad-4769-8c92-a6c4dae69d19",
    "_uuid": "8f2839f25d086af736a60e9eeb907d3b93b6e0e5",
    "execution": {
     "iopub.execute_input": "2021-03-08T07:03:59.393245Z",
     "iopub.status.busy": "2021-03-08T07:03:59.392430Z",
     "iopub.status.idle": "2021-03-08T07:04:06.295224Z",
     "shell.execute_reply": "2021-03-08T07:04:06.294364Z"
    },
    "papermill": {
     "duration": 6.920351,
     "end_time": "2021-03-08T07:04:06.295510",
     "exception": false,
     "start_time": "2021-03-08T07:03:59.375159",
     "status": "completed"
    },
    "tags": []
   },
   "outputs": [],
   "source": [
    "import numpy as np\n",
    "import pandas as pd\n",
    "import matplotlib.pyplot as plt\n",
    "from tensorflow.keras.layers import Embedding,LSTM,Dense,Dropout\n",
    "from tensorflow.keras.preprocessing.sequence import pad_sequences\n",
    "from tensorflow.keras.models import Sequential\n",
    "from tensorflow.keras.preprocessing.text import one_hot"
   ]
  },
  {
   "cell_type": "markdown",
   "metadata": {
    "papermill": {
     "duration": 0.011429,
     "end_time": "2021-03-08T07:04:06.319130",
     "exception": false,
     "start_time": "2021-03-08T07:04:06.307701",
     "status": "completed"
    },
    "tags": []
   },
   "source": [
    "### Importing dataset"
   ]
  },
  {
   "cell_type": "code",
   "execution_count": 2,
   "metadata": {
    "execution": {
     "iopub.execute_input": "2021-03-08T07:04:06.348232Z",
     "iopub.status.busy": "2021-03-08T07:04:06.347580Z",
     "iopub.status.idle": "2021-03-08T07:04:09.749862Z",
     "shell.execute_reply": "2021-03-08T07:04:09.749361Z"
    },
    "papermill": {
     "duration": 3.419163,
     "end_time": "2021-03-08T07:04:09.750022",
     "exception": false,
     "start_time": "2021-03-08T07:04:06.330859",
     "status": "completed"
    },
    "tags": []
   },
   "outputs": [],
   "source": [
    "df = pd.read_csv('../input/fake-news/train.csv')\n",
    "test = pd.read_csv('../input/fake-news/test.csv')"
   ]
  },
  {
   "cell_type": "code",
   "execution_count": 3,
   "metadata": {
    "execution": {
     "iopub.execute_input": "2021-03-08T07:04:09.794122Z",
     "iopub.status.busy": "2021-03-08T07:04:09.793428Z",
     "iopub.status.idle": "2021-03-08T07:04:09.816058Z",
     "shell.execute_reply": "2021-03-08T07:04:09.816539Z"
    },
    "papermill": {
     "duration": 0.054707,
     "end_time": "2021-03-08T07:04:09.816708",
     "exception": false,
     "start_time": "2021-03-08T07:04:09.762001",
     "status": "completed"
    },
    "tags": []
   },
   "outputs": [
    {
     "data": {
      "text/html": [
       "<div>\n",
       "<style scoped>\n",
       "    .dataframe tbody tr th:only-of-type {\n",
       "        vertical-align: middle;\n",
       "    }\n",
       "\n",
       "    .dataframe tbody tr th {\n",
       "        vertical-align: top;\n",
       "    }\n",
       "\n",
       "    .dataframe thead th {\n",
       "        text-align: right;\n",
       "    }\n",
       "</style>\n",
       "<table border=\"1\" class=\"dataframe\">\n",
       "  <thead>\n",
       "    <tr style=\"text-align: right;\">\n",
       "      <th></th>\n",
       "      <th>id</th>\n",
       "      <th>title</th>\n",
       "      <th>author</th>\n",
       "      <th>text</th>\n",
       "      <th>label</th>\n",
       "    </tr>\n",
       "  </thead>\n",
       "  <tbody>\n",
       "    <tr>\n",
       "      <th>0</th>\n",
       "      <td>0</td>\n",
       "      <td>House Dem Aide: We Didn’t Even See Comey’s Let...</td>\n",
       "      <td>Darrell Lucus</td>\n",
       "      <td>House Dem Aide: We Didn’t Even See Comey’s Let...</td>\n",
       "      <td>1</td>\n",
       "    </tr>\n",
       "    <tr>\n",
       "      <th>1</th>\n",
       "      <td>1</td>\n",
       "      <td>FLYNN: Hillary Clinton, Big Woman on Campus - ...</td>\n",
       "      <td>Daniel J. Flynn</td>\n",
       "      <td>Ever get the feeling your life circles the rou...</td>\n",
       "      <td>0</td>\n",
       "    </tr>\n",
       "    <tr>\n",
       "      <th>2</th>\n",
       "      <td>2</td>\n",
       "      <td>Why the Truth Might Get You Fired</td>\n",
       "      <td>Consortiumnews.com</td>\n",
       "      <td>Why the Truth Might Get You Fired October 29, ...</td>\n",
       "      <td>1</td>\n",
       "    </tr>\n",
       "    <tr>\n",
       "      <th>3</th>\n",
       "      <td>3</td>\n",
       "      <td>15 Civilians Killed In Single US Airstrike Hav...</td>\n",
       "      <td>Jessica Purkiss</td>\n",
       "      <td>Videos 15 Civilians Killed In Single US Airstr...</td>\n",
       "      <td>1</td>\n",
       "    </tr>\n",
       "    <tr>\n",
       "      <th>4</th>\n",
       "      <td>4</td>\n",
       "      <td>Iranian woman jailed for fictional unpublished...</td>\n",
       "      <td>Howard Portnoy</td>\n",
       "      <td>Print \\nAn Iranian woman has been sentenced to...</td>\n",
       "      <td>1</td>\n",
       "    </tr>\n",
       "  </tbody>\n",
       "</table>\n",
       "</div>"
      ],
      "text/plain": [
       "   id                                              title              author  \\\n",
       "0   0  House Dem Aide: We Didn’t Even See Comey’s Let...       Darrell Lucus   \n",
       "1   1  FLYNN: Hillary Clinton, Big Woman on Campus - ...     Daniel J. Flynn   \n",
       "2   2                  Why the Truth Might Get You Fired  Consortiumnews.com   \n",
       "3   3  15 Civilians Killed In Single US Airstrike Hav...     Jessica Purkiss   \n",
       "4   4  Iranian woman jailed for fictional unpublished...      Howard Portnoy   \n",
       "\n",
       "                                                text  label  \n",
       "0  House Dem Aide: We Didn’t Even See Comey’s Let...      1  \n",
       "1  Ever get the feeling your life circles the rou...      0  \n",
       "2  Why the Truth Might Get You Fired October 29, ...      1  \n",
       "3  Videos 15 Civilians Killed In Single US Airstr...      1  \n",
       "4  Print \\nAn Iranian woman has been sentenced to...      1  "
      ]
     },
     "execution_count": 3,
     "metadata": {},
     "output_type": "execute_result"
    }
   ],
   "source": [
    "df.head()"
   ]
  },
  {
   "cell_type": "markdown",
   "metadata": {
    "papermill": {
     "duration": 0.011886,
     "end_time": "2021-03-08T07:04:09.841323",
     "exception": false,
     "start_time": "2021-03-08T07:04:09.829437",
     "status": "completed"
    },
    "tags": []
   },
   "source": [
    "### Data preprocessing and cleaning"
   ]
  },
  {
   "cell_type": "code",
   "execution_count": 4,
   "metadata": {
    "execution": {
     "iopub.execute_input": "2021-03-08T07:04:09.876255Z",
     "iopub.status.busy": "2021-03-08T07:04:09.870026Z",
     "iopub.status.idle": "2021-03-08T07:04:09.885374Z",
     "shell.execute_reply": "2021-03-08T07:04:09.884750Z"
    },
    "papermill": {
     "duration": 0.031849,
     "end_time": "2021-03-08T07:04:09.885528",
     "exception": false,
     "start_time": "2021-03-08T07:04:09.853679",
     "status": "completed"
    },
    "tags": []
   },
   "outputs": [],
   "source": [
    "#filling NULL values with empty string\n",
    "df=df.fillna('')\n",
    "test=test.fillna('')"
   ]
  },
  {
   "cell_type": "code",
   "execution_count": 5,
   "metadata": {
    "execution": {
     "iopub.execute_input": "2021-03-08T07:04:09.917744Z",
     "iopub.status.busy": "2021-03-08T07:04:09.917099Z",
     "iopub.status.idle": "2021-03-08T07:04:09.953483Z",
     "shell.execute_reply": "2021-03-08T07:04:09.953927Z"
    },
    "papermill": {
     "duration": 0.054736,
     "end_time": "2021-03-08T07:04:09.954104",
     "exception": false,
     "start_time": "2021-03-08T07:04:09.899368",
     "status": "completed"
    },
    "tags": []
   },
   "outputs": [],
   "source": [
    "# We will be only using title and author name for prediction\n",
    "# Creating new coolumn total concatenating title and author\n",
    "df['total'] = df['title']+' '+df['author']\n",
    "test['total']=test['title']+' '+test['author']"
   ]
  },
  {
   "cell_type": "code",
   "execution_count": 6,
   "metadata": {
    "execution": {
     "iopub.execute_input": "2021-03-08T07:04:09.985652Z",
     "iopub.status.busy": "2021-03-08T07:04:09.984952Z",
     "iopub.status.idle": "2021-03-08T07:04:09.996277Z",
     "shell.execute_reply": "2021-03-08T07:04:09.996755Z"
    },
    "papermill": {
     "duration": 0.028981,
     "end_time": "2021-03-08T07:04:09.996931",
     "exception": false,
     "start_time": "2021-03-08T07:04:09.967950",
     "status": "completed"
    },
    "tags": []
   },
   "outputs": [
    {
     "name": "stdout",
     "output_type": "stream",
     "text": [
      "(20800, 5)\n",
      "(20800,)\n"
     ]
    }
   ],
   "source": [
    "X = df.drop('label',axis=1)\n",
    "y=df['label']\n",
    "print(X.shape)\n",
    "print(y.shape)"
   ]
  },
  {
   "cell_type": "code",
   "execution_count": 7,
   "metadata": {
    "execution": {
     "iopub.execute_input": "2021-03-08T07:04:10.030966Z",
     "iopub.status.busy": "2021-03-08T07:04:10.028419Z",
     "iopub.status.idle": "2021-03-08T07:04:10.035918Z",
     "shell.execute_reply": "2021-03-08T07:04:10.035204Z"
    },
    "papermill": {
     "duration": 0.025132,
     "end_time": "2021-03-08T07:04:10.036088",
     "exception": false,
     "start_time": "2021-03-08T07:04:10.010956",
     "status": "completed"
    },
    "tags": []
   },
   "outputs": [],
   "source": [
    "#Choosing vocabulary size to be 5000 and copying data to msg for further cleaning\n",
    "voc_size = 5000\n",
    "msg = X.copy()\n",
    "msg_test = test.copy()"
   ]
  },
  {
   "cell_type": "code",
   "execution_count": 8,
   "metadata": {
    "execution": {
     "iopub.execute_input": "2021-03-08T07:04:10.067589Z",
     "iopub.status.busy": "2021-03-08T07:04:10.066924Z",
     "iopub.status.idle": "2021-03-08T07:04:11.755340Z",
     "shell.execute_reply": "2021-03-08T07:04:11.755843Z"
    },
    "papermill": {
     "duration": 1.706664,
     "end_time": "2021-03-08T07:04:11.756032",
     "exception": false,
     "start_time": "2021-03-08T07:04:10.049368",
     "status": "completed"
    },
    "tags": []
   },
   "outputs": [
    {
     "name": "stdout",
     "output_type": "stream",
     "text": [
      "[nltk_data] Downloading package stopwords to /usr/share/nltk_data...\n",
      "[nltk_data]   Package stopwords is already up-to-date!\n"
     ]
    },
    {
     "data": {
      "text/plain": [
       "True"
      ]
     },
     "execution_count": 8,
     "metadata": {},
     "output_type": "execute_result"
    }
   ],
   "source": [
    "#Downloading stopwords \n",
    "#Stopwords are the words in any language which does not add much meaning to a sentence.\n",
    "#They can safely be ignored without sacrificing the meaning of the sentence.\n",
    "import nltk\n",
    "import re\n",
    "from nltk.corpus import stopwords\n",
    "nltk.download('stopwords')"
   ]
  },
  {
   "cell_type": "code",
   "execution_count": 9,
   "metadata": {
    "execution": {
     "iopub.execute_input": "2021-03-08T07:04:11.788955Z",
     "iopub.status.busy": "2021-03-08T07:04:11.787883Z",
     "iopub.status.idle": "2021-03-08T07:04:11.790892Z",
     "shell.execute_reply": "2021-03-08T07:04:11.790416Z"
    },
    "papermill": {
     "duration": 0.021335,
     "end_time": "2021-03-08T07:04:11.791035",
     "exception": false,
     "start_time": "2021-03-08T07:04:11.769700",
     "status": "completed"
    },
    "tags": []
   },
   "outputs": [],
   "source": [
    "#We will be using Stemming here\n",
    "#Stemming map words to their root forms\n",
    "from nltk.stem.porter import PorterStemmer\n",
    "ps = PorterStemmer()\n",
    "corpus = []"
   ]
  },
  {
   "cell_type": "code",
   "execution_count": 10,
   "metadata": {
    "execution": {
     "iopub.execute_input": "2021-03-08T07:04:11.825191Z",
     "iopub.status.busy": "2021-03-08T07:04:11.824566Z",
     "iopub.status.idle": "2021-03-08T07:04:52.316233Z",
     "shell.execute_reply": "2021-03-08T07:04:52.316769Z"
    },
    "papermill": {
     "duration": 40.512251,
     "end_time": "2021-03-08T07:04:52.316965",
     "exception": false,
     "start_time": "2021-03-08T07:04:11.804714",
     "status": "completed"
    },
    "tags": []
   },
   "outputs": [],
   "source": [
    "#Applying stemming and some preprocessing\n",
    "for i in range(len(msg)):\n",
    "  review = re.sub('[^a-zA-Z]',' ',msg['total'][i])\n",
    "  review = review.lower()\n",
    "  review = review.split()\n",
    "  review = [ps.stem(word) for word in review if not word in stopwords.words('english')]\n",
    "  review = ' '.join(review)\n",
    "  corpus.append(review)"
   ]
  },
  {
   "cell_type": "code",
   "execution_count": 11,
   "metadata": {
    "execution": {
     "iopub.execute_input": "2021-03-08T07:04:52.353227Z",
     "iopub.status.busy": "2021-03-08T07:04:52.352210Z",
     "iopub.status.idle": "2021-03-08T07:05:02.311218Z",
     "shell.execute_reply": "2021-03-08T07:05:02.310685Z"
    },
    "papermill": {
     "duration": 9.979293,
     "end_time": "2021-03-08T07:05:02.311381",
     "exception": false,
     "start_time": "2021-03-08T07:04:52.332088",
     "status": "completed"
    },
    "tags": []
   },
   "outputs": [],
   "source": [
    "#Applying stemming and some preprocessing for test data\n",
    "corpus_test = []\n",
    "for i in range(len(msg_test)):\n",
    "  review = re.sub('[^a-zA-Z]',' ',msg_test['total'][i])\n",
    "  review = review.lower()\n",
    "  review = review.split()\n",
    "  review = [ps.stem(word) for word in review if not word in stopwords.words('english')]\n",
    "  review = ' '.join(review)\n",
    "  corpus_test.append(review)"
   ]
  },
  {
   "cell_type": "code",
   "execution_count": 12,
   "metadata": {
    "execution": {
     "iopub.execute_input": "2021-03-08T07:05:02.353116Z",
     "iopub.status.busy": "2021-03-08T07:05:02.347758Z",
     "iopub.status.idle": "2021-03-08T07:05:02.809775Z",
     "shell.execute_reply": "2021-03-08T07:05:02.809121Z"
    },
    "papermill": {
     "duration": 0.484255,
     "end_time": "2021-03-08T07:05:02.809913",
     "exception": false,
     "start_time": "2021-03-08T07:05:02.325658",
     "status": "completed"
    },
    "tags": []
   },
   "outputs": [],
   "source": [
    "# Converting to one hot representation\n",
    "onehot_rep = [one_hot(words,voc_size)for words in corpus]\n",
    "onehot_rep_test = [one_hot(words,voc_size)for words in corpus_test]"
   ]
  },
  {
   "cell_type": "code",
   "execution_count": 13,
   "metadata": {
    "execution": {
     "iopub.execute_input": "2021-03-08T07:05:02.846095Z",
     "iopub.status.busy": "2021-03-08T07:05:02.845384Z",
     "iopub.status.idle": "2021-03-08T07:05:02.960311Z",
     "shell.execute_reply": "2021-03-08T07:05:02.959624Z"
    },
    "papermill": {
     "duration": 0.136234,
     "end_time": "2021-03-08T07:05:02.960458",
     "exception": false,
     "start_time": "2021-03-08T07:05:02.824224",
     "status": "completed"
    },
    "tags": []
   },
   "outputs": [],
   "source": [
    "#Padding Sentences to make them of same size\n",
    "embedded_docs = pad_sequences(onehot_rep,padding='pre',maxlen=25)\n",
    "embedded_docs_test = pad_sequences(onehot_rep_test,padding='pre',maxlen=25)"
   ]
  },
  {
   "cell_type": "markdown",
   "metadata": {
    "papermill": {
     "duration": 0.014064,
     "end_time": "2021-03-08T07:05:02.988693",
     "exception": false,
     "start_time": "2021-03-08T07:05:02.974629",
     "status": "completed"
    },
    "tags": []
   },
   "source": [
    "# Creating and training model"
   ]
  },
  {
   "cell_type": "code",
   "execution_count": 14,
   "metadata": {
    "execution": {
     "iopub.execute_input": "2021-03-08T07:05:03.025106Z",
     "iopub.status.busy": "2021-03-08T07:05:03.024440Z",
     "iopub.status.idle": "2021-03-08T07:05:03.461751Z",
     "shell.execute_reply": "2021-03-08T07:05:03.462511Z"
    },
    "papermill": {
     "duration": 0.459675,
     "end_time": "2021-03-08T07:05:03.462798",
     "exception": false,
     "start_time": "2021-03-08T07:05:03.003123",
     "status": "completed"
    },
    "tags": []
   },
   "outputs": [
    {
     "name": "stdout",
     "output_type": "stream",
     "text": [
      "Model: \"sequential\"\n",
      "_________________________________________________________________\n",
      "Layer (type)                 Output Shape              Param #   \n",
      "=================================================================\n",
      "embedding (Embedding)        (None, 25, 40)            200000    \n",
      "_________________________________________________________________\n",
      "dropout (Dropout)            (None, 25, 40)            0         \n",
      "_________________________________________________________________\n",
      "lstm (LSTM)                  (None, 100)               56400     \n",
      "_________________________________________________________________\n",
      "dropout_1 (Dropout)          (None, 100)               0         \n",
      "_________________________________________________________________\n",
      "dense (Dense)                (None, 64)                6464      \n",
      "_________________________________________________________________\n",
      "dropout_2 (Dropout)          (None, 64)                0         \n",
      "_________________________________________________________________\n",
      "dense_1 (Dense)              (None, 1)                 65        \n",
      "=================================================================\n",
      "Total params: 262,929\n",
      "Trainable params: 262,929\n",
      "Non-trainable params: 0\n",
      "_________________________________________________________________\n",
      "None\n"
     ]
    }
   ],
   "source": [
    "#We have used embedding layers with LSTM\n",
    "model = Sequential()\n",
    "model.add(Embedding(voc_size,40,input_length=25))\n",
    "model.add(Dropout(0.3))\n",
    "model.add(LSTM(100))\n",
    "model.add(Dropout(0.3))\n",
    "model.add(Dense(64,activation='relu'))\n",
    "model.add(Dropout(0.3))\n",
    "model.add(Dense(1,activation='sigmoid'))\n",
    "model.compile(loss='binary_crossentropy',optimizer='adam',metrics=['accuracy'])\n",
    "print(model.summary())"
   ]
  },
  {
   "cell_type": "code",
   "execution_count": 15,
   "metadata": {
    "execution": {
     "iopub.execute_input": "2021-03-08T07:05:03.496829Z",
     "iopub.status.busy": "2021-03-08T07:05:03.496160Z",
     "iopub.status.idle": "2021-03-08T07:05:03.503318Z",
     "shell.execute_reply": "2021-03-08T07:05:03.502772Z"
    },
    "papermill": {
     "duration": 0.025993,
     "end_time": "2021-03-08T07:05:03.503472",
     "exception": false,
     "start_time": "2021-03-08T07:05:03.477479",
     "status": "completed"
    },
    "tags": []
   },
   "outputs": [
    {
     "data": {
      "text/plain": [
       "((20800, 25), (20800,), (5200, 25))"
      ]
     },
     "execution_count": 15,
     "metadata": {},
     "output_type": "execute_result"
    }
   ],
   "source": [
    "#Converting into numpy array\n",
    "X_final = np.array(embedded_docs)\n",
    "y_final = np.array(y)\n",
    "test_final = np.array(embedded_docs_test)\n",
    "X_final.shape,y_final.shape,test_final.shape"
   ]
  },
  {
   "cell_type": "code",
   "execution_count": 16,
   "metadata": {
    "execution": {
     "iopub.execute_input": "2021-03-08T07:05:03.538061Z",
     "iopub.status.busy": "2021-03-08T07:05:03.537341Z",
     "iopub.status.idle": "2021-03-08T07:08:12.255054Z",
     "shell.execute_reply": "2021-03-08T07:08:12.254391Z"
    },
    "papermill": {
     "duration": 188.736943,
     "end_time": "2021-03-08T07:08:12.255216",
     "exception": false,
     "start_time": "2021-03-08T07:05:03.518273",
     "status": "completed"
    },
    "tags": []
   },
   "outputs": [
    {
     "name": "stdout",
     "output_type": "stream",
     "text": [
      "Epoch 1/20\n",
      "325/325 [==============================] - 11s 29ms/step - loss: 0.3238 - accuracy: 0.8673\n",
      "Epoch 2/20\n",
      "325/325 [==============================] - 9s 28ms/step - loss: 0.0193 - accuracy: 0.9951\n",
      "Epoch 3/20\n",
      "325/325 [==============================] - 9s 29ms/step - loss: 0.0098 - accuracy: 0.9969\n",
      "Epoch 4/20\n",
      "325/325 [==============================] - 9s 29ms/step - loss: 0.0048 - accuracy: 0.9989\n",
      "Epoch 5/20\n",
      "325/325 [==============================] - 10s 29ms/step - loss: 0.0020 - accuracy: 0.9997\n",
      "Epoch 6/20\n",
      "325/325 [==============================] - 9s 28ms/step - loss: 0.0025 - accuracy: 0.9993\n",
      "Epoch 7/20\n",
      "325/325 [==============================] - 10s 29ms/step - loss: 0.0029 - accuracy: 0.9990\n",
      "Epoch 8/20\n",
      "325/325 [==============================] - 9s 29ms/step - loss: 0.0017 - accuracy: 0.9996\n",
      "Epoch 9/20\n",
      "325/325 [==============================] - 10s 29ms/step - loss: 0.0011 - accuracy: 0.9997\n",
      "Epoch 10/20\n",
      "325/325 [==============================] - 10s 30ms/step - loss: 0.0016 - accuracy: 0.9992\n",
      "Epoch 11/20\n",
      "325/325 [==============================] - 9s 28ms/step - loss: 9.6880e-04 - accuracy: 0.9995\n",
      "Epoch 12/20\n",
      "325/325 [==============================] - 9s 28ms/step - loss: 0.0013 - accuracy: 0.9996\n",
      "Epoch 13/20\n",
      "325/325 [==============================] - 9s 28ms/step - loss: 3.9912e-04 - accuracy: 0.9999\n",
      "Epoch 14/20\n",
      "325/325 [==============================] - 9s 28ms/step - loss: 4.9049e-04 - accuracy: 0.9999\n",
      "Epoch 15/20\n",
      "325/325 [==============================] - 9s 28ms/step - loss: 1.7647e-04 - accuracy: 1.0000\n",
      "Epoch 16/20\n",
      "325/325 [==============================] - 9s 28ms/step - loss: 6.8572e-04 - accuracy: 0.9998\n",
      "Epoch 17/20\n",
      "325/325 [==============================] - 10s 30ms/step - loss: 1.2002e-04 - accuracy: 1.0000\n",
      "Epoch 18/20\n",
      "325/325 [==============================] - 9s 28ms/step - loss: 1.5072e-04 - accuracy: 0.9999\n",
      "Epoch 19/20\n",
      "325/325 [==============================] - 9s 29ms/step - loss: 7.2649e-05 - accuracy: 1.0000\n",
      "Epoch 20/20\n",
      "325/325 [==============================] - 10s 29ms/step - loss: 1.2581e-04 - accuracy: 1.0000\n"
     ]
    },
    {
     "data": {
      "text/plain": [
       "<tensorflow.python.keras.callbacks.History at 0x7f420c1b3c10>"
      ]
     },
     "execution_count": 16,
     "metadata": {},
     "output_type": "execute_result"
    }
   ],
   "source": [
    "#training model\n",
    "model.fit(X_final,y_final,epochs=20,batch_size=64)"
   ]
  },
  {
   "cell_type": "markdown",
   "metadata": {
    "papermill": {
     "duration": 0.832876,
     "end_time": "2021-03-08T07:08:13.867434",
     "exception": false,
     "start_time": "2021-03-08T07:08:13.034558",
     "status": "completed"
    },
    "tags": []
   },
   "source": [
    "## Creating Submission file "
   ]
  },
  {
   "cell_type": "code",
   "execution_count": 17,
   "metadata": {
    "execution": {
     "iopub.execute_input": "2021-03-08T07:08:15.401998Z",
     "iopub.status.busy": "2021-03-08T07:08:15.401364Z",
     "iopub.status.idle": "2021-03-08T07:08:17.166224Z",
     "shell.execute_reply": "2021-03-08T07:08:17.165739Z"
    },
    "papermill": {
     "duration": 2.53836,
     "end_time": "2021-03-08T07:08:17.166417",
     "exception": false,
     "start_time": "2021-03-08T07:08:14.628057",
     "status": "completed"
    },
    "tags": []
   },
   "outputs": [
    {
     "name": "stderr",
     "output_type": "stream",
     "text": [
      "/opt/conda/lib/python3.7/site-packages/tensorflow/python/keras/engine/sequential.py:450: UserWarning: `model.predict_classes()` is deprecated and will be removed after 2021-01-01. Please use instead:* `np.argmax(model.predict(x), axis=-1)`,   if your model does multi-class classification   (e.g. if it uses a `softmax` last-layer activation).* `(model.predict(x) > 0.5).astype(\"int32\")`,   if your model does binary classification   (e.g. if it uses a `sigmoid` last-layer activation).\n",
      "  warnings.warn('`model.predict_classes()` is deprecated and '\n"
     ]
    }
   ],
   "source": [
    "y_pred = model.predict_classes(test_final)"
   ]
  },
  {
   "cell_type": "code",
   "execution_count": 18,
   "metadata": {
    "execution": {
     "iopub.execute_input": "2021-03-08T07:08:18.702623Z",
     "iopub.status.busy": "2021-03-08T07:08:18.701679Z",
     "iopub.status.idle": "2021-03-08T07:08:18.720711Z",
     "shell.execute_reply": "2021-03-08T07:08:18.720032Z"
    },
    "papermill": {
     "duration": 0.787484,
     "end_time": "2021-03-08T07:08:18.720858",
     "exception": false,
     "start_time": "2021-03-08T07:08:17.933374",
     "status": "completed"
    },
    "tags": []
   },
   "outputs": [],
   "source": [
    "final_sub = pd.DataFrame()\n",
    "final_sub['id']=test['id']\n",
    "final_sub['label'] = y_pred\n",
    "final_sub.to_csv('final_sub.csv',index=False)"
   ]
  },
  {
   "cell_type": "code",
   "execution_count": 19,
   "metadata": {
    "execution": {
     "iopub.execute_input": "2021-03-08T07:08:20.264215Z",
     "iopub.status.busy": "2021-03-08T07:08:20.263232Z",
     "iopub.status.idle": "2021-03-08T07:08:20.266775Z",
     "shell.execute_reply": "2021-03-08T07:08:20.267318Z"
    },
    "papermill": {
     "duration": 0.771936,
     "end_time": "2021-03-08T07:08:20.267485",
     "exception": false,
     "start_time": "2021-03-08T07:08:19.495549",
     "status": "completed"
    },
    "tags": []
   },
   "outputs": [
    {
     "data": {
      "text/html": [
       "<div>\n",
       "<style scoped>\n",
       "    .dataframe tbody tr th:only-of-type {\n",
       "        vertical-align: middle;\n",
       "    }\n",
       "\n",
       "    .dataframe tbody tr th {\n",
       "        vertical-align: top;\n",
       "    }\n",
       "\n",
       "    .dataframe thead th {\n",
       "        text-align: right;\n",
       "    }\n",
       "</style>\n",
       "<table border=\"1\" class=\"dataframe\">\n",
       "  <thead>\n",
       "    <tr style=\"text-align: right;\">\n",
       "      <th></th>\n",
       "      <th>id</th>\n",
       "      <th>label</th>\n",
       "    </tr>\n",
       "  </thead>\n",
       "  <tbody>\n",
       "    <tr>\n",
       "      <th>0</th>\n",
       "      <td>20800</td>\n",
       "      <td>0</td>\n",
       "    </tr>\n",
       "    <tr>\n",
       "      <th>1</th>\n",
       "      <td>20801</td>\n",
       "      <td>1</td>\n",
       "    </tr>\n",
       "    <tr>\n",
       "      <th>2</th>\n",
       "      <td>20802</td>\n",
       "      <td>1</td>\n",
       "    </tr>\n",
       "    <tr>\n",
       "      <th>3</th>\n",
       "      <td>20803</td>\n",
       "      <td>0</td>\n",
       "    </tr>\n",
       "    <tr>\n",
       "      <th>4</th>\n",
       "      <td>20804</td>\n",
       "      <td>1</td>\n",
       "    </tr>\n",
       "  </tbody>\n",
       "</table>\n",
       "</div>"
      ],
      "text/plain": [
       "      id  label\n",
       "0  20800      0\n",
       "1  20801      1\n",
       "2  20802      1\n",
       "3  20803      0\n",
       "4  20804      1"
      ]
     },
     "execution_count": 19,
     "metadata": {},
     "output_type": "execute_result"
    }
   ],
   "source": [
    "final_sub.head()"
   ]
  },
  {
   "cell_type": "markdown",
   "metadata": {
    "papermill": {
     "duration": 0.806109,
     "end_time": "2021-03-08T07:08:21.839458",
     "exception": false,
     "start_time": "2021-03-08T07:08:21.033349",
     "status": "completed"
    },
    "tags": []
   },
   "source": [
    "# Conclusion\n",
    "* LSTM with embedding layer works great\n",
    "* The model gives more than 99% accuracy on test data.\n",
    "* Furthermore we can also try vectoriztion or bi-directional LSTM.\n",
    "\n",
    "![](https://st3.depositphotos.com/1998651/13850/v/600/depositphotos_138506364-stock-illustration-cup-of-coffee-with-have.jpg)"
   ]
  },
  {
   "cell_type": "code",
   "execution_count": null,
   "metadata": {
    "papermill": {
     "duration": 0.762777,
     "end_time": "2021-03-08T07:08:23.360336",
     "exception": false,
     "start_time": "2021-03-08T07:08:22.597559",
     "status": "completed"
    },
    "tags": []
   },
   "outputs": [],
   "source": []
  },
  {
   "cell_type": "markdown",
   "metadata": {
    "papermill": {
     "duration": 0.767032,
     "end_time": "2021-03-08T07:08:24.896211",
     "exception": false,
     "start_time": "2021-03-08T07:08:24.129179",
     "status": "completed"
    },
    "tags": []
   },
   "source": []
  }
 ],
 "metadata": {
  "kernelspec": {
   "display_name": "Python 3",
   "language": "python",
   "name": "python3"
  },
  "language_info": {
   "codemirror_mode": {
    "name": "ipython",
    "version": 3
   },
   "file_extension": ".py",
   "mimetype": "text/x-python",
   "name": "python",
   "nbconvert_exporter": "python",
   "pygments_lexer": "ipython3",
   "version": "3.7.9"
  },
  "papermill": {
   "default_parameters": {},
   "duration": 273.338547,
   "end_time": "2021-03-08T07:08:26.978974",
   "environment_variables": {},
   "exception": null,
   "input_path": "__notebook__.ipynb",
   "output_path": "__notebook__.ipynb",
   "parameters": {},
   "start_time": "2021-03-08T07:03:53.640427",
   "version": "2.2.2"
  }
 },
 "nbformat": 4,
 "nbformat_minor": 4
}
